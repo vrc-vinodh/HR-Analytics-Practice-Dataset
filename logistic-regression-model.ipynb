{
 "cells": [
  {
   "cell_type": "code",
   "execution_count": 1,
   "metadata": {},
   "outputs": [],
   "source": [
    "import pandas as pd\n",
    "import numpy as np\n",
    "import seaborn as sns\n",
    "from sklearn.model_selection import train_test_split\n",
    "import math\n",
    "import matplotlib.pyplot as plt"
   ]
  },
  {
   "cell_type": "code",
   "execution_count": 2,
   "metadata": {},
   "outputs": [],
   "source": [
    "traindata = pd.read_csv(\"hr-total-cat-equalized.csv\",index_col=0)"
   ]
  },
  {
   "cell_type": "code",
   "execution_count": 3,
   "metadata": {},
   "outputs": [
    {
     "name": "stdout",
     "output_type": "stream",
     "text": [
      "<class 'pandas.core.frame.DataFrame'>\n",
      "Int64Index: 93313 entries, 65438 to 12592\n",
      "Data columns (total 65 columns):\n",
      "age                   93313 non-null int64\n",
      "length_of_service     93313 non-null int64\n",
      "KPIs_met >80%         93313 non-null int64\n",
      "awards_won?           93313 non-null int64\n",
      "avg_training_score    93313 non-null int64\n",
      "is_promoted           93313 non-null int64\n",
      "region_10             93313 non-null int64\n",
      "region_11             93313 non-null int64\n",
      "region_12             93313 non-null int64\n",
      "region_13             93313 non-null int64\n",
      "region_14             93313 non-null int64\n",
      "region_15             93313 non-null int64\n",
      "region_16             93313 non-null int64\n",
      "region_17             93313 non-null int64\n",
      "region_18             93313 non-null int64\n",
      "region_19             93313 non-null int64\n",
      "region_2              93313 non-null int64\n",
      "region_20             93313 non-null int64\n",
      "region_21             93313 non-null int64\n",
      "region_22             93313 non-null int64\n",
      "region_23             93313 non-null int64\n",
      "region_24             93313 non-null int64\n",
      "region_25             93313 non-null int64\n",
      "region_26             93313 non-null int64\n",
      "region_27             93313 non-null int64\n",
      "region_28             93313 non-null int64\n",
      "region_29             93313 non-null int64\n",
      "region_3              93313 non-null int64\n",
      "region_30             93313 non-null int64\n",
      "region_31             93313 non-null int64\n",
      "region_32             93313 non-null int64\n",
      "region_33             93313 non-null int64\n",
      "region_34             93313 non-null int64\n",
      "region_4              93313 non-null int64\n",
      "region_5              93313 non-null int64\n",
      "region_6              93313 non-null int64\n",
      "region_7              93313 non-null int64\n",
      "region_8              93313 non-null int64\n",
      "region_9              93313 non-null int64\n",
      "Below Secondary       93313 non-null int64\n",
      "Master's & above      93313 non-null int64\n",
      "Finance               93313 non-null int64\n",
      "HR                    93313 non-null int64\n",
      "Legal                 93313 non-null int64\n",
      "Operations            93313 non-null int64\n",
      "Procurement           93313 non-null int64\n",
      "R&D                   93313 non-null int64\n",
      "Sales & Marketing     93313 non-null int64\n",
      "Technology            93313 non-null int64\n",
      "t2                    93313 non-null int64\n",
      "t3                    93313 non-null int64\n",
      "t4                    93313 non-null int64\n",
      "t5                    93313 non-null int64\n",
      "t6                    93313 non-null int64\n",
      "t7                    93313 non-null int64\n",
      "t8                    93313 non-null int64\n",
      "t9                    93313 non-null int64\n",
      "t10                   93313 non-null int64\n",
      "m                     93313 non-null int64\n",
      "r2                    93313 non-null int64\n",
      "r3                    93313 non-null int64\n",
      "r4                    93313 non-null int64\n",
      "r5                    93313 non-null int64\n",
      "referred              93313 non-null int64\n",
      "sourcing              93313 non-null int64\n",
      "dtypes: int64(65)\n",
      "memory usage: 47.0 MB\n"
     ]
    }
   ],
   "source": [
    "traindata.info()"
   ]
  },
  {
   "cell_type": "code",
   "execution_count": 4,
   "metadata": {},
   "outputs": [],
   "source": [
    "Y = traindata['is_promoted'].values\n",
    "X_traindata = traindata.drop('is_promoted', axis=1)\n",
    "X = X_traindata.values"
   ]
  },
  {
   "cell_type": "markdown",
   "metadata": {},
   "source": [
    "Split data set into training and test sets"
   ]
  },
  {
   "cell_type": "code",
   "execution_count": 5,
   "metadata": {},
   "outputs": [],
   "source": [
    "X_train, X_test, Y_train, Y_test = train_test_split(X, Y, test_size=0.25, random_state=42)"
   ]
  },
  {
   "cell_type": "code",
   "execution_count": 6,
   "metadata": {},
   "outputs": [],
   "source": [
    "# Import module for fitting\n",
    "from sklearn.linear_model import LogisticRegression\n",
    "# Create instance (i.e. object) of LogisticRegression\n",
    "lrmodel = LogisticRegression(solver='lbfgs')"
   ]
  },
  {
   "cell_type": "code",
   "execution_count": 7,
   "metadata": {},
   "outputs": [
    {
     "name": "stderr",
     "output_type": "stream",
     "text": [
      "C:\\ProgramData\\Anaconda3\\lib\\site-packages\\sklearn\\linear_model\\logistic.py:758: ConvergenceWarning: lbfgs failed to converge. Increase the number of iterations.\n",
      "  \"of iterations.\", ConvergenceWarning)\n"
     ]
    },
    {
     "data": {
      "text/plain": [
       "LogisticRegression(C=1.0, class_weight=None, dual=False, fit_intercept=True,\n",
       "          intercept_scaling=1, max_iter=100, multi_class='warn',\n",
       "          n_jobs=None, penalty='l2', random_state=None, solver='lbfgs',\n",
       "          tol=0.0001, verbose=0, warm_start=False)"
      ]
     },
     "execution_count": 7,
     "metadata": {},
     "output_type": "execute_result"
    }
   ],
   "source": [
    "lrmodel.fit(X_train, Y_train)"
   ]
  },
  {
   "cell_type": "code",
   "execution_count": 8,
   "metadata": {
    "scrolled": true
   },
   "outputs": [
    {
     "data": {
      "text/plain": [
       "0.7574302697759487"
      ]
     },
     "execution_count": 8,
     "metadata": {},
     "output_type": "execute_result"
    }
   ],
   "source": [
    "lrmodel.score(X_train, Y_train)"
   ]
  },
  {
   "cell_type": "code",
   "execution_count": 9,
   "metadata": {},
   "outputs": [
    {
     "name": "stdout",
     "output_type": "stream",
     "text": [
      "Warning: Maximum number of iterations has been exceeded.\n",
      "         Current function value: 0.424139\n",
      "         Iterations: 35\n"
     ]
    },
    {
     "name": "stderr",
     "output_type": "stream",
     "text": [
      "C:\\ProgramData\\Anaconda3\\lib\\site-packages\\statsmodels\\base\\model.py:508: ConvergenceWarning: Maximum Likelihood optimization failed to converge. Check mle_retvals\n",
      "  \"Check mle_retvals\", ConvergenceWarning)\n"
     ]
    },
    {
     "name": "stdout",
     "output_type": "stream",
     "text": [
      "                               Results: Logit\n",
      "=============================================================================\n",
      "Model:                  Logit                Pseudo R-squared:     0.388     \n",
      "Dependent Variable:     y                    AIC:                  79285.2842\n",
      "Date:                   2019-06-17 12:08     BIC:                  79899.1257\n",
      "No. Observations:       93313                Log-Likelihood:       -39578.   \n",
      "Df Model:               64                   LL-Null:              -64649.   \n",
      "Df Residuals:           93248                LLR p-value:          0.0000    \n",
      "Converged:              0.0000               Scale:                1.0000    \n",
      "No. Iterations:         35.0000                                              \n",
      "-----------------------------------------------------------------------------\n",
      "                    Coef.    Std.Err.     z     P>|z|     [0.025     0.975]  \n",
      "-----------------------------------------------------------------------------\n",
      "const              -26.1086    0.2355 -110.8862 0.0000    -26.5700   -25.6471\n",
      "age                 -0.0348    0.0018  -19.3331 0.0000     -0.0384    -0.0313\n",
      "length_of_service    0.0303    0.0029   10.6196 0.0000      0.0247     0.0359\n",
      "KPIs_met >80%        2.5624    0.0221  115.8397 0.0000      2.5190     2.6057\n",
      "awards_won?          1.6513    0.0499   33.1167 0.0000      1.5536     1.7491\n",
      "avg_training_score   0.2840    0.0024  117.5597 0.0000      0.2793     0.2887\n",
      "region_10            0.0789    0.1125    0.7016 0.4829     -0.1415     0.2993\n",
      "region_11           -0.3389    0.1010   -3.3559 0.0008     -0.5368    -0.1410\n",
      "region_12           -0.2989    0.1297   -2.3048 0.0212     -0.5530    -0.0447\n",
      "region_13            0.0024    0.0892    0.0272 0.9783     -0.1724     0.1773\n",
      "region_14           -0.0716    0.1071   -0.6681 0.5041     -0.2815     0.1384\n",
      "region_15            0.0203    0.0895    0.2272 0.8202     -0.1551     0.1958\n",
      "region_16           -0.1947    0.0986   -1.9748 0.0483     -0.3879    -0.0015\n",
      "region_17            0.4466    0.1033    4.3214 0.0000      0.2440     0.6491\n",
      "region_18           -0.1883    0.4857   -0.3877 0.6982     -1.1402     0.7636\n",
      "region_19           -0.1024    0.1088   -0.9412 0.3466     -0.3156     0.1108\n",
      "region_2             0.1165    0.0827    1.4083 0.1590     -0.0456     0.2786\n",
      "region_20           -0.4793    0.1122   -4.2740 0.0000     -0.6991    -0.2595\n",
      "region_21           -0.4759    0.1394   -3.4137 0.0006     -0.7491    -0.2027\n",
      "region_22            0.4755    0.0835    5.6926 0.0000      0.3118     0.6392\n",
      "region_23            0.4045    0.0968    4.1813 0.0000      0.2149     0.5942\n",
      "region_24           -0.3364    0.1382   -2.4348 0.0149     -0.6072    -0.0656\n",
      "region_25            0.4481    0.1020    4.3912 0.0000      0.2481     0.6481\n",
      "region_26           -0.1110    0.0922   -1.2040 0.2286     -0.2917     0.0697\n",
      "region_27            0.0799    0.0946    0.8451 0.3981     -0.1055     0.2653\n",
      "region_28            0.2817    0.0961    2.9313 0.0034      0.0933     0.4700\n",
      "region_29           -0.3842    0.1106   -3.4750 0.0005     -0.6008    -0.1675\n",
      "region_3            -0.0310    0.1339   -0.2314 0.8170     -0.2935     0.2315\n",
      "region_30            0.0782    0.1137    0.6875 0.4918     -0.1447     0.3011\n",
      "region_31           -0.3496    0.0951   -3.6778 0.0002     -0.5359    -0.1633\n",
      "region_32           -0.5145    0.1144   -4.4980 0.0000     -0.7386    -0.2903\n",
      "region_33           -0.3670    0.1653   -2.2200 0.0264     -0.6909    -0.0430\n",
      "region_34           -1.0842    0.1843   -5.8838 0.0000     -1.4454    -0.7230\n",
      "region_4             0.5965    0.0903    6.6091 0.0000      0.4196     0.7734\n",
      "region_5            -0.4130    0.1188   -3.4779 0.0005     -0.6458    -0.1803\n",
      "region_6            -0.5102    0.1217   -4.1923 0.0000     -0.7487    -0.2717\n",
      "region_7             0.3882    0.0845    4.5968 0.0000      0.2227     0.5537\n",
      "region_8            -0.2759    0.1135   -2.4314 0.0150     -0.4982    -0.0535\n",
      "region_9            -1.3543    0.1819   -7.4440 0.0000     -1.7109    -0.9977\n",
      "Below Secondary     -0.2260    0.0724   -3.1201 0.0018     -0.3680    -0.0840\n",
      "Master's & above     0.1884    0.0218    8.6305 0.0000      0.1456     0.2312\n",
      "Finance              6.1831    0.0736   84.0570 0.0000      6.0389     6.3272\n",
      "HR                   8.8426    0.0967   91.4721 0.0000      8.6531     9.0320\n",
      "Legal                6.0467    0.0945   64.0088 0.0000      5.8616     6.2319\n",
      "Operations           6.4313    0.0657   97.9606 0.0000      6.3026     6.5600\n",
      "Procurement          3.7854    0.0501   75.4862 0.0000      3.6872     3.8837\n",
      "R&D                 -0.5622    0.0716   -7.8570 0.0000     -0.7024    -0.4219\n",
      "Sales & Marketing    9.3683    0.0872  107.4007 0.0000      9.1974     9.5393\n",
      "Technology           1.4759    0.0381   38.7187 0.0000      1.4012     1.5506\n",
      "t2                  -0.1441    0.0261   -5.5279 0.0000     -0.1952    -0.0930\n",
      "t3                  -0.2991    0.0537   -5.5666 0.0000     -0.4044    -0.1938\n",
      "t4                  -0.3137    0.1114   -2.8149 0.0049     -0.5321    -0.0953\n",
      "t5                  -0.4569    0.2484   -1.8395 0.0658     -0.9437     0.0299\n",
      "t6                  -0.3454    0.4086   -0.8452 0.3980     -1.1462     0.4555\n",
      "t7                 -15.7209  760.5069   -0.0207 0.9835  -1506.2870  1474.8452\n",
      "t8                 -10.6190  112.6579   -0.0943 0.9249   -231.4245   210.1865\n",
      "t9                  -9.9201   98.5203   -0.1007 0.9198   -203.0163   183.1761\n",
      "t10                -16.6552 6311.4652   -0.0026 0.9979 -12386.8997 12353.5893\n",
      "m                   -0.0060    0.0202   -0.2977 0.7660     -0.0456     0.0335\n",
      "r2                   1.1228    0.0603   18.6217 0.0000      1.0047     1.2410\n",
      "r3                   1.3656    0.0499   27.3822 0.0000      1.2678     1.4633\n",
      "r4                   1.2639    0.0511   24.7339 0.0000      1.1637     1.3640\n",
      "r5                   1.8089    0.0503   35.9887 0.0000      1.7104     1.9074\n",
      "referred            -0.1427    0.0553   -2.5809 0.0099     -0.2511    -0.0343\n",
      "sourcing            -0.0395    0.0181   -2.1777 0.0294     -0.0750    -0.0039\n",
      "=============================================================================\n",
      "\n"
     ]
    }
   ],
   "source": [
    "import statsmodels.api as sm\n",
    "X2 = sm.add_constant(X_traindata)\n",
    "logit_model=sm.Logit(Y,X2)\n",
    "result=logit_model.fit()\n",
    "print(result.summary2())"
   ]
  },
  {
   "cell_type": "code",
   "execution_count": 10,
   "metadata": {
    "scrolled": true
   },
   "outputs": [
    {
     "data": {
      "text/plain": [
       "Index(['age', 'length_of_service', 'KPIs_met >80%', 'awards_won?',\n",
       "       'avg_training_score', 'region_10', 'region_11', 'region_12',\n",
       "       'region_13', 'region_14', 'region_15', 'region_16', 'region_17',\n",
       "       'region_18', 'region_19', 'region_2', 'region_20', 'region_21',\n",
       "       'region_22', 'region_23', 'region_24', 'region_25', 'region_26',\n",
       "       'region_27', 'region_28', 'region_29', 'region_3', 'region_30',\n",
       "       'region_31', 'region_32', 'region_33', 'region_34', 'region_4',\n",
       "       'region_5', 'region_6', 'region_7', 'region_8', 'region_9',\n",
       "       'Below Secondary', 'Master's & above', 'Finance', 'HR', 'Legal',\n",
       "       'Operations', 'Procurement', 'R&D', 'Sales & Marketing', 'Technology',\n",
       "       't2', 't3', 't4', 't5', 't6', 't7', 't8', 't9', 't10', 'm', 'r2', 'r3',\n",
       "       'r4', 'r5', 'referred', 'sourcing'],\n",
       "      dtype='object')"
      ]
     },
     "execution_count": 10,
     "metadata": {},
     "output_type": "execute_result"
    }
   ],
   "source": [
    "X_traindata.columns"
   ]
  },
  {
   "cell_type": "markdown",
   "metadata": {},
   "source": [
    "Select only columns which has p value less than 0.05 and re-run the logistic regression model."
   ]
  },
  {
   "cell_type": "code",
   "execution_count": 11,
   "metadata": {},
   "outputs": [],
   "source": [
    "cols = ['age', 'length_of_service', 'KPIs_met >80%', 'awards_won?','avg_training_score', 'region_11', 'region_12',\n",
    "        'region_16', 'region_17','region_20', 'region_21','region_22', 'region_23', 'region_24', 'region_25', 'region_28', 'region_29',\n",
    "       'region_31', 'region_32', 'region_33', 'region_34', 'region_4','region_5', 'region_6', 'region_7', 'region_8', 'region_9',\n",
    "       'Below Secondary', \"Master's & above\", 'Finance', 'HR', 'Legal','Operations', 'Procurement', 'R&D', 'Sales & Marketing', 'Technology',\n",
    "       't2', 't3', 't4', 'r2', 'r3', 'r4', 'r5', 'referred', 'sourcing']"
   ]
  },
  {
   "cell_type": "code",
   "execution_count": 12,
   "metadata": {},
   "outputs": [],
   "source": [
    "X_traindata_final = X_traindata[cols]"
   ]
  },
  {
   "cell_type": "markdown",
   "metadata": {},
   "source": [
    "X_traindata_final.to_csv('X_traindata_final.csv')"
   ]
  },
  {
   "cell_type": "code",
   "execution_count": 14,
   "metadata": {},
   "outputs": [
    {
     "name": "stdout",
     "output_type": "stream",
     "text": [
      "Optimization terminated successfully.\n",
      "         Current function value: 0.424441\n",
      "         Iterations 8\n",
      "                            Results: Logit\n",
      "=======================================================================\n",
      "Model:                Logit              Pseudo R-squared:   0.387     \n",
      "Dependent Variable:   y                  AIC:                79305.7535\n",
      "Date:                 2019-06-17 12:09   BIC:                79749.6080\n",
      "No. Observations:     93313              Log-Likelihood:     -39606.   \n",
      "Df Model:             46                 LL-Null:            -64649.   \n",
      "Df Residuals:         93266              LLR p-value:        0.0000    \n",
      "Converged:            1.0000             Scale:              1.0000    \n",
      "No. Iterations:       8.0000                                           \n",
      "-----------------------------------------------------------------------\n",
      "                    Coef.   Std.Err.     z     P>|z|   [0.025   0.975] \n",
      "-----------------------------------------------------------------------\n",
      "const              -26.1265   0.2227 -117.3429 0.0000 -26.5628 -25.6901\n",
      "age                 -0.0336   0.0018  -19.1178 0.0000  -0.0371  -0.0302\n",
      "length_of_service    0.0306   0.0028   10.7500 0.0000   0.0250   0.0362\n",
      "KPIs_met >80%        2.5645   0.0221  116.0186 0.0000   2.5212   2.6078\n",
      "awards_won?          1.6525   0.0499   33.1470 0.0000   1.5548   1.7503\n",
      "avg_training_score   0.2841   0.0024  117.7275 0.0000   0.2794   0.2889\n",
      "region_11           -0.3829   0.0636   -6.0170 0.0000  -0.5077  -0.2582\n",
      "region_12           -0.3382   0.1033   -3.2734 0.0011  -0.5408  -0.1357\n",
      "region_16           -0.2408   0.0595   -4.0490 0.0001  -0.3573  -0.1242\n",
      "region_17            0.4005   0.0668    5.9998 0.0000   0.2697   0.5314\n",
      "region_20           -0.5277   0.0804   -6.5660 0.0000  -0.6852  -0.3702\n",
      "region_21           -0.5196   0.1151   -4.5132 0.0000  -0.7453  -0.2940\n",
      "region_22            0.4268   0.0282   15.1570 0.0000   0.3716   0.4820\n",
      "region_23            0.3576   0.0569    6.2824 0.0000   0.2460   0.4691\n",
      "region_24           -0.3747   0.1138   -3.2918 0.0010  -0.5979  -0.1516\n",
      "region_25            0.4029   0.0666    6.0538 0.0000   0.2725   0.5334\n",
      "region_28            0.2350   0.0570    4.1223 0.0000   0.1233   0.3467\n",
      "region_29           -0.4260   0.0781   -5.4538 0.0000  -0.5791  -0.2729\n",
      "region_31           -0.3948   0.0537   -7.3529 0.0000  -0.5001  -0.2896\n",
      "region_32           -0.5558   0.0831   -6.6861 0.0000  -0.7187  -0.3929\n",
      "region_33           -0.4144   0.1452   -2.8535 0.0043  -0.6990  -0.1298\n",
      "region_34           -1.1240   0.1669   -6.7341 0.0000  -1.4511  -0.7968\n",
      "region_4             0.5493   0.0449   12.2409 0.0000   0.4613   0.6372\n",
      "region_5            -0.4568   0.0891   -5.1279 0.0000  -0.6313  -0.2822\n",
      "region_6            -0.5492   0.0932   -5.8920 0.0000  -0.7318  -0.3665\n",
      "region_7             0.3389   0.0309   10.9696 0.0000   0.2784   0.3995\n",
      "region_8            -0.3170   0.0820   -3.8662 0.0001  -0.4778  -0.1563\n",
      "region_9            -1.3958   0.1647   -8.4743 0.0000  -1.7186  -1.0730\n",
      "Below Secondary     -0.1765   0.0716   -2.4653 0.0137  -0.3168  -0.0362\n",
      "Master's & above     0.1919   0.0215    8.9075 0.0000   0.1497   0.2342\n",
      "Finance              6.1901   0.0735   84.2374 0.0000   6.0461   6.3341\n",
      "HR                   8.8611   0.0964   91.8730 0.0000   8.6720   9.0501\n",
      "Legal                6.0658   0.0943   64.3337 0.0000   5.8810   6.2506\n",
      "Operations           6.4286   0.0653   98.4250 0.0000   6.3006   6.5567\n",
      "Procurement          3.7896   0.0495   76.5101 0.0000   3.6925   3.8867\n",
      "R&D                 -0.5716   0.0715   -7.9984 0.0000  -0.7117  -0.4315\n",
      "Sales & Marketing    9.3721   0.0871  107.5460 0.0000   9.2013   9.5429\n",
      "Technology           1.4745   0.0377   39.0664 0.0000   1.4005   1.5485\n",
      "t2                  -0.1374   0.0260   -5.2896 0.0000  -0.1883  -0.0865\n",
      "t3                  -0.2891   0.0536   -5.3892 0.0000  -0.3942  -0.1840\n",
      "t4                  -0.2988   0.1115   -2.6797 0.0074  -0.5174  -0.0803\n",
      "r2                   1.1267   0.0602   18.7155 0.0000   1.0087   1.2447\n",
      "r3                   1.3647   0.0498   27.4212 0.0000   1.2671   1.4622\n",
      "r4                   1.2648   0.0510   24.8005 0.0000   1.1648   1.3647\n",
      "r5                   1.8082   0.0502   36.0549 0.0000   1.7099   1.9065\n",
      "referred            -0.1107   0.0548   -2.0185 0.0435  -0.2181  -0.0032\n",
      "sourcing            -0.0369   0.0181   -2.0422 0.0411  -0.0724  -0.0015\n",
      "=======================================================================\n",
      "\n"
     ]
    }
   ],
   "source": [
    "X2 = sm.add_constant(X_traindata_final)\n",
    "logit_model=sm.Logit(Y,X2)\n",
    "result=logit_model.fit()\n",
    "print(result.summary2())"
   ]
  },
  {
   "cell_type": "code",
   "execution_count": 15,
   "metadata": {},
   "outputs": [
    {
     "name": "stderr",
     "output_type": "stream",
     "text": [
      "C:\\ProgramData\\Anaconda3\\lib\\site-packages\\sklearn\\linear_model\\logistic.py:758: ConvergenceWarning: lbfgs failed to converge. Increase the number of iterations.\n",
      "  \"of iterations.\", ConvergenceWarning)\n"
     ]
    }
   ],
   "source": [
    "lrmodel.fit(X_train, Y_train)\n",
    "Y_predictions = lrmodel.predict(X_test)"
   ]
  },
  {
   "cell_type": "code",
   "execution_count": 16,
   "metadata": {},
   "outputs": [],
   "source": [
    "from sklearn.metrics import classification_report\n",
    "from sklearn.metrics import accuracy_score"
   ]
  },
  {
   "cell_type": "code",
   "execution_count": 17,
   "metadata": {},
   "outputs": [
    {
     "name": "stdout",
     "output_type": "stream",
     "text": [
      "              precision    recall  f1-score   support\n",
      "\n",
      "           0       0.78      0.73      0.75     11977\n",
      "           1       0.73      0.78      0.76     11352\n",
      "\n",
      "   micro avg       0.75      0.75      0.75     23329\n",
      "   macro avg       0.75      0.75      0.75     23329\n",
      "weighted avg       0.76      0.75      0.75     23329\n",
      "\n"
     ]
    }
   ],
   "source": [
    "print(classification_report(Y_test,Y_predictions))"
   ]
  },
  {
   "cell_type": "code",
   "execution_count": 18,
   "metadata": {},
   "outputs": [
    {
     "data": {
      "text/plain": [
       "array([[8733, 3244],\n",
       "       [2497, 8855]], dtype=int64)"
      ]
     },
     "execution_count": 18,
     "metadata": {},
     "output_type": "execute_result"
    }
   ],
   "source": [
    "from sklearn.metrics import confusion_matrix\n",
    "confusion_matrix(Y_test, Y_predictions)"
   ]
  },
  {
   "cell_type": "code",
   "execution_count": 19,
   "metadata": {},
   "outputs": [
    {
     "name": "stdout",
     "output_type": "stream",
     "text": [
      "Accuracy: 0.7539114406961293\n"
     ]
    }
   ],
   "source": [
    "print(\"Accuracy:\",accuracy_score(Y_test, Y_predictions))"
   ]
  },
  {
   "cell_type": "code",
   "execution_count": 20,
   "metadata": {},
   "outputs": [],
   "source": [
    "from sklearn.metrics import roc_auc_score\n",
    "from sklearn.metrics import roc_curve"
   ]
  },
  {
   "cell_type": "code",
   "execution_count": 21,
   "metadata": {},
   "outputs": [
    {
     "data": {
      "image/png": "[encoded data removed]",
      "text/plain": [
       "<Figure size 432x288 with 1 Axes>"
      ]
     },
     "metadata": {
      "needs_background": "light"
     },
     "output_type": "display_data"
    }
   ],
   "source": [
    "logit_roc_auc = roc_auc_score(Y_test, lrmodel.predict(X_test))\n",
    "fpr, tpr, thresholds = roc_curve(Y_test, lrmodel.predict_proba(X_test)[:,1])\n",
    "plt.figure()\n",
    "plt.plot(fpr, tpr, label='Logistic Regression (area = %0.2f)' % logit_roc_auc)\n",
    "plt.plot([0, 1], [0, 1],'r--')\n",
    "plt.xlim([0.0, 1.0])\n",
    "plt.ylim([0.0, 1.05])\n",
    "plt.xlabel('False Positive Rate')\n",
    "plt.ylabel('True Positive Rate')\n",
    "plt.title('Receiver operating characteristic')\n",
    "plt.legend(loc=\"lower right\")\n",
    "plt.savefig('Log_ROC')\n",
    "plt.show()"
   ]
  }
 ],
 "metadata": {
  "kernelspec": {
   "display_name": "Python 3",
   "language": "python",
   "name": "python3"
  },
  "language_info": {
   "codemirror_mode": {
    "name": "ipython",
    "version": 3
   },
   "file_extension": ".py",
   "mimetype": "text/x-python",
   "name": "python",
   "nbconvert_exporter": "python",
   "pygments_lexer": "ipython3",
   "version": "3.7.1"
  }
 },
 "nbformat": 4,
 "nbformat_minor": 2
}
