{
 "cells": [
  {
   "cell_type": "code",
   "execution_count": 1,
   "metadata": {},
   "outputs": [],
   "source": [
    "import pandas as pd\n",
    "import numpy as np\n",
    "import seaborn as sns\n",
    "from sklearn.model_selection import train_test_split\n",
    "import math\n",
    "import matplotlib.pyplot as plt\n",
    "from IPython.display import Image\n",
    "from IPython.core.display import HTML"
   ]
  },
  {
   "cell_type": "code",
   "execution_count": 2,
   "metadata": {},
   "outputs": [],
   "source": [
    "traindata = pd.read_csv(\"hr-total-cat-unbalanced.csv\",index_col=0)"
   ]
  },
  {
   "cell_type": "code",
   "execution_count": 3,
   "metadata": {
    "scrolled": true
   },
   "outputs": [
    {
     "name": "stdout",
     "output_type": "stream",
     "text": [
      "<class 'pandas.core.frame.DataFrame'>\n",
      "Int64Index: 52399 entries, 65438 to 51526\n",
      "Data columns (total 65 columns):\n",
      "age                   52399 non-null int64\n",
      "length_of_service     52399 non-null int64\n",
      "KPIs_met >80%         52399 non-null int64\n",
      "awards_won?           52399 non-null int64\n",
      "avg_training_score    52399 non-null int64\n",
      "is_promoted           52399 non-null int64\n",
      "region_10             52399 non-null int64\n",
      "region_11             52399 non-null int64\n",
      "region_12             52399 non-null int64\n",
      "region_13             52399 non-null int64\n",
      "region_14             52399 non-null int64\n",
      "region_15             52399 non-null int64\n",
      "region_16             52399 non-null int64\n",
      "region_17             52399 non-null int64\n",
      "region_18             52399 non-null int64\n",
      "region_19             52399 non-null int64\n",
      "region_2              52399 non-null int64\n",
      "region_20             52399 non-null int64\n",
      "region_21             52399 non-null int64\n",
      "region_22             52399 non-null int64\n",
      "region_23             52399 non-null int64\n",
      "region_24             52399 non-null int64\n",
      "region_25             52399 non-null int64\n",
      "region_26             52399 non-null int64\n",
      "region_27             52399 non-null int64\n",
      "region_28             52399 non-null int64\n",
      "region_29             52399 non-null int64\n",
      "region_3              52399 non-null int64\n",
      "region_30             52399 non-null int64\n",
      "region_31             52399 non-null int64\n",
      "region_32             52399 non-null int64\n",
      "region_33             52399 non-null int64\n",
      "region_34             52399 non-null int64\n",
      "region_4              52399 non-null int64\n",
      "region_5              52399 non-null int64\n",
      "region_6              52399 non-null int64\n",
      "region_7              52399 non-null int64\n",
      "region_8              52399 non-null int64\n",
      "region_9              52399 non-null int64\n",
      "Below Secondary       52399 non-null int64\n",
      "Master's & above      52399 non-null int64\n",
      "Finance               52399 non-null int64\n",
      "HR                    52399 non-null int64\n",
      "Legal                 52399 non-null int64\n",
      "Operations            52399 non-null int64\n",
      "Procurement           52399 non-null int64\n",
      "R&D                   52399 non-null int64\n",
      "Sales & Marketing     52399 non-null int64\n",
      "Technology            52399 non-null int64\n",
      "t2                    52399 non-null int64\n",
      "t3                    52399 non-null int64\n",
      "t4                    52399 non-null int64\n",
      "t5                    52399 non-null int64\n",
      "t6                    52399 non-null int64\n",
      "t7                    52399 non-null int64\n",
      "t8                    52399 non-null int64\n",
      "t9                    52399 non-null int64\n",
      "t10                   52399 non-null int64\n",
      "m                     52399 non-null int64\n",
      "r2                    52399 non-null int64\n",
      "r3                    52399 non-null int64\n",
      "r4                    52399 non-null int64\n",
      "r5                    52399 non-null int64\n",
      "referred              52399 non-null int64\n",
      "sourcing              52399 non-null int64\n",
      "dtypes: int64(65)\n",
      "memory usage: 26.4 MB\n"
     ]
    }
   ],
   "source": [
    "traindata.info()"
   ]
  },
  {
   "cell_type": "code",
   "execution_count": 4,
   "metadata": {},
   "outputs": [],
   "source": [
    "Y = traindata['is_promoted'].values\n",
    "X_traindata = traindata.drop('is_promoted', axis=1)\n",
    "X = X_traindata.values"
   ]
  },
  {
   "cell_type": "markdown",
   "metadata": {},
   "source": [
    "Split data set into training and test sets"
   ]
  },
  {
   "cell_type": "code",
   "execution_count": 5,
   "metadata": {},
   "outputs": [],
   "source": [
    "X_train, X_test, Y_train, Y_test = train_test_split(X, Y, test_size=0.25, random_state=42)"
   ]
  },
  {
   "cell_type": "code",
   "execution_count": 6,
   "metadata": {
    "scrolled": true
   },
   "outputs": [
    {
     "data": {
      "image/png": "[encoded data removed]",
      "text/plain": [
       "<Figure size 432x288 with 1 Axes>"
      ]
     },
     "metadata": {
      "needs_background": "light"
     },
     "output_type": "display_data"
    }
   ],
   "source": [
    "plt.hist(Y_train);\n",
    "plt.show()"
   ]
  },
  {
   "cell_type": "code",
   "execution_count": 7,
   "metadata": {},
   "outputs": [],
   "source": [
    "from sklearn.utils import class_weight\n",
    "from sklearn.utils.class_weight import compute_class_weight"
   ]
  },
  {
   "cell_type": "code",
   "execution_count": 8,
   "metadata": {},
   "outputs": [
    {
     "data": {
      "text/plain": [
       "[0.5476144027646174, 5.75051214515657]"
      ]
     },
     "execution_count": 8,
     "metadata": {},
     "output_type": "execute_result"
    }
   ],
   "source": [
    "class_weights = class_weight.compute_class_weight('balanced',np.unique(Y_train),Y_train)\n",
    "class_weightsl = class_weights.tolist()\n",
    "class_weightsl"
   ]
  },
  {
   "cell_type": "code",
   "execution_count": 9,
   "metadata": {},
   "outputs": [],
   "source": [
    "# Import module for fitting\n",
    "from sklearn.linear_model import LogisticRegression\n",
    "# Create instance (i.e. object) of LogisticRegression\n",
    "lrmodel = LogisticRegression(class_weight={0:0.5476144027646174, 1:5.75051214515657})"
   ]
  },
  {
   "cell_type": "code",
   "execution_count": 10,
   "metadata": {},
   "outputs": [
    {
     "name": "stderr",
     "output_type": "stream",
     "text": [
      "C:\\ProgramData\\Anaconda3\\lib\\site-packages\\sklearn\\linear_model\\logistic.py:433: FutureWarning: Default solver will be changed to 'lbfgs' in 0.22. Specify a solver to silence this warning.\n",
      "  FutureWarning)\n"
     ]
    },
    {
     "data": {
      "text/plain": [
       "LogisticRegression(C=1.0,\n",
       "          class_weight={0: 0.5476144027646174, 1: 5.75051214515657},\n",
       "          dual=False, fit_intercept=True, intercept_scaling=1,\n",
       "          max_iter=100, multi_class='warn', n_jobs=None, penalty='l2',\n",
       "          random_state=None, solver='warn', tol=0.0001, verbose=0,\n",
       "          warm_start=False)"
      ]
     },
     "execution_count": 10,
     "metadata": {},
     "output_type": "execute_result"
    }
   ],
   "source": [
    "lrmodel.fit(X_train, Y_train)"
   ]
  },
  {
   "cell_type": "code",
   "execution_count": 11,
   "metadata": {
    "scrolled": true
   },
   "outputs": [
    {
     "data": {
      "text/plain": [
       "0.7681111478663579"
      ]
     },
     "execution_count": 11,
     "metadata": {},
     "output_type": "execute_result"
    }
   ],
   "source": [
    "lrmodel.score(X_train, Y_train)"
   ]
  },
  {
   "cell_type": "code",
   "execution_count": 12,
   "metadata": {},
   "outputs": [
    {
     "name": "stderr",
     "output_type": "stream",
     "text": [
      "C:\\ProgramData\\Anaconda3\\lib\\site-packages\\sklearn\\linear_model\\logistic.py:433: FutureWarning: Default solver will be changed to 'lbfgs' in 0.22. Specify a solver to silence this warning.\n",
      "  FutureWarning)\n"
     ]
    }
   ],
   "source": [
    "lrmodel.fit(X_train, Y_train)\n",
    "Y_predictions = lrmodel.predict(X_test)"
   ]
  },
  {
   "cell_type": "code",
   "execution_count": 13,
   "metadata": {},
   "outputs": [],
   "source": [
    "from sklearn.metrics import classification_report\n",
    "from sklearn.metrics import accuracy_score"
   ]
  },
  {
   "cell_type": "code",
   "execution_count": 14,
   "metadata": {
    "scrolled": true
   },
   "outputs": [
    {
     "data": {
      "text/html": [
       "<img src=\"https://raw.githubusercontent.com/vrc-vinodh/HR-Analytics-Practice-Dataset/master/attachements/confusion-matrix.png\" width=\"300\"/>"
      ],
      "text/plain": [
       "<IPython.core.display.Image object>"
      ]
     },
     "execution_count": 14,
     "metadata": {},
     "output_type": "execute_result"
    }
   ],
   "source": [
    "Image(url= \"https://raw.githubusercontent.com/vrc-vinodh/HR-Analytics-Practice-Dataset/master/attachements/confusion-matrix.png\", width=300)"
   ]
  },
  {
   "cell_type": "code",
   "execution_count": 15,
   "metadata": {},
   "outputs": [
    {
     "data": {
      "text/plain": [
       "array([[9186, 2785],\n",
       "       [ 197,  932]], dtype=int64)"
      ]
     },
     "execution_count": 15,
     "metadata": {},
     "output_type": "execute_result"
    }
   ],
   "source": [
    "from sklearn.metrics import confusion_matrix\n",
    "confusion_matrix(Y_test, Y_predictions)"
   ]
  },
  {
   "cell_type": "code",
   "execution_count": 16,
   "metadata": {},
   "outputs": [
    {
     "data": {
      "text/html": [
       "<img src=\"https://raw.githubusercontent.com/vrc-vinodh/HR-Analytics-Practice-Dataset/master/attachements/precision-recall-f1score.png\" width=\"500\"/>"
      ],
      "text/plain": [
       "<IPython.core.display.Image object>"
      ]
     },
     "execution_count": 16,
     "metadata": {},
     "output_type": "execute_result"
    }
   ],
   "source": [
    "Image(url= \"https://raw.githubusercontent.com/vrc-vinodh/HR-Analytics-Practice-Dataset/master/attachements/precision-recall-f1score.png\",width=500)"
   ]
  },
  {
   "cell_type": "code",
   "execution_count": 17,
   "metadata": {},
   "outputs": [
    {
     "name": "stdout",
     "output_type": "stream",
     "text": [
      "              precision    recall  f1-score   support\n",
      "\n",
      "           0       0.98      0.77      0.86     11971\n",
      "           1       0.25      0.83      0.38      1129\n",
      "\n",
      "   micro avg       0.77      0.77      0.77     13100\n",
      "   macro avg       0.61      0.80      0.62     13100\n",
      "weighted avg       0.92      0.77      0.82     13100\n",
      "\n"
     ]
    }
   ],
   "source": [
    "print(classification_report(Y_test,Y_predictions))"
   ]
  },
  {
   "cell_type": "markdown",
   "metadata": {},
   "source": [
    "1.High precision means not many people who don't deserve promotion didn't get promoted.\n",
    "\n",
    "2.High recall means predicted most people who are likely to get promoted."
   ]
  },
  {
   "cell_type": "code",
   "execution_count": 18,
   "metadata": {},
   "outputs": [
    {
     "name": "stdout",
     "output_type": "stream",
     "text": [
      "Accuracy: 0.7723664122137405\n"
     ]
    }
   ],
   "source": [
    "print(\"Accuracy:\",accuracy_score(Y_test, Y_predictions))"
   ]
  },
  {
   "cell_type": "code",
   "execution_count": 19,
   "metadata": {},
   "outputs": [],
   "source": [
    "from sklearn.metrics import roc_auc_score\n",
    "from sklearn.metrics import roc_curve"
   ]
  },
  {
   "cell_type": "code",
   "execution_count": 20,
   "metadata": {},
   "outputs": [
    {
     "data": {
      "image/png": "[encoded data removed]",
      "text/plain": [
       "<Figure size 432x288 with 1 Axes>"
      ]
     },
     "metadata": {
      "needs_background": "light"
     },
     "output_type": "display_data"
    }
   ],
   "source": [
    "logit_roc_auc = roc_auc_score(Y_test, lrmodel.predict(X_test))\n",
    "fpr, tpr, thresholds = roc_curve(Y_test, lrmodel.predict_proba(X_test)[:,1])\n",
    "plt.figure()\n",
    "plt.plot(fpr, tpr, label='Logistic Regression (area = %0.2f)' % logit_roc_auc)\n",
    "plt.plot([0, 1], [0, 1],'r--')\n",
    "plt.xlim([0.0, 1.0])\n",
    "plt.ylim([0.0, 1.05])\n",
    "plt.xlabel('False Positive Rate')\n",
    "plt.ylabel('True Positive Rate')\n",
    "plt.title('predictive analytics characteristic')\n",
    "plt.legend(loc=\"lower right\")\n",
    "plt.savefig('Log_ROC')\n",
    "plt.show()"
   ]
  },
  {
   "cell_type": "markdown",
   "metadata": {
    "scrolled": false
   },
   "source": [
    "from sklearn.model_selection import cross_val_score\n",
    "cv_results = cross_val_score(lrmodel, X, Y, cv=25)\n",
    "print(cv_results)"
   ]
  },
  {
   "cell_type": "markdown",
   "metadata": {},
   "source": [
    "Finding out using test data given in the problem set"
   ]
  },
  {
   "cell_type": "code",
   "execution_count": 21,
   "metadata": {},
   "outputs": [],
   "source": [
    "X_testdata = pd.read_csv(\"test-hr-total-cat1.csv\",index_col=0)"
   ]
  },
  {
   "cell_type": "code",
   "execution_count": 22,
   "metadata": {},
   "outputs": [],
   "source": [
    "X_testdata1 = X_testdata.values"
   ]
  },
  {
   "cell_type": "code",
   "execution_count": 24,
   "metadata": {},
   "outputs": [
    {
     "name": "stderr",
     "output_type": "stream",
     "text": [
      "C:\\ProgramData\\Anaconda3\\lib\\site-packages\\sklearn\\linear_model\\logistic.py:433: FutureWarning: Default solver will be changed to 'lbfgs' in 0.22. Specify a solver to silence this warning.\n",
      "  FutureWarning)\n"
     ]
    },
    {
     "data": {
      "text/plain": [
       "LogisticRegression(C=1.0,\n",
       "          class_weight={0: 0.5476144027646174, 1: 5.75051214515657},\n",
       "          dual=False, fit_intercept=True, intercept_scaling=1,\n",
       "          max_iter=100, multi_class='warn', n_jobs=None, penalty='l2',\n",
       "          random_state=None, solver='warn', tol=0.0001, verbose=0,\n",
       "          warm_start=False)"
      ]
     },
     "execution_count": 24,
     "metadata": {},
     "output_type": "execute_result"
    }
   ],
   "source": [
    "lrmodel.fit(X, Y)"
   ]
  },
  {
   "cell_type": "code",
   "execution_count": 25,
   "metadata": {
    "scrolled": true
   },
   "outputs": [
    {
     "data": {
      "text/plain": [
       "array([1, 0, 0, 0, 0, 0, 0, 0, 0, 1, 1, 0, 0, 0, 1, 0, 0, 1, 0, 0, 0, 0,\n",
       "       0, 1, 0, 1, 1, 1, 0, 0, 0, 0, 1, 1, 0, 0, 1, 0, 0, 0, 1, 0, 1, 0,\n",
       "       0, 1, 0, 1, 1, 0, 0, 0, 0, 1, 0, 0, 1, 0, 1, 0, 1, 0, 0, 0, 1, 0,\n",
       "       1, 0, 0, 0, 0, 0, 0, 0, 1, 0, 1, 0, 0, 0, 0, 1, 0, 0, 1, 0, 0, 0,\n",
       "       0, 0, 0, 0, 1, 0, 0, 0, 0, 0, 0, 1], dtype=int64)"
      ]
     },
     "execution_count": 25,
     "metadata": {},
     "output_type": "execute_result"
    }
   ],
   "source": [
    "final_prediction_unknown = lrmodel.predict(X_testdata1)\n",
    "final_prediction_unknown[0:100]"
   ]
  },
  {
   "cell_type": "code",
   "execution_count": 26,
   "metadata": {},
   "outputs": [],
   "source": [
    "final_prediction_unknown = final_prediction_unknown.tolist()\n",
    "X_testdata['prediction']=final_prediction_unknown\n",
    "final = X_testdata['prediction']"
   ]
  },
  {
   "cell_type": "code",
   "execution_count": 27,
   "metadata": {},
   "outputs": [
    {
     "data": {
      "text/plain": [
       "employee_id\n",
       "8724     1\n",
       "74430    0\n",
       "72255    0\n",
       "38562    0\n",
       "64486    0\n",
       "46232    0\n",
       "54542    0\n",
       "67269    0\n",
       "66174    0\n",
       "76303    1\n",
       "60245    1\n",
       "42639    0\n",
       "30963    0\n",
       "54055    0\n",
       "42996    1\n",
       "12737    0\n",
       "27561    0\n",
       "26622    1\n",
       "31582    0\n",
       "29793    0\n",
       "72735    0\n",
       "5677     0\n",
       "60889    0\n",
       "51498    1\n",
       "8566     0\n",
       "53151    1\n",
       "16203    1\n",
       "61083    1\n",
       "74849    0\n",
       "13259    0\n",
       "        ..\n",
       "61754    0\n",
       "72190    1\n",
       "27155    0\n",
       "15959    1\n",
       "72900    1\n",
       "57683    0\n",
       "55174    1\n",
       "51115    0\n",
       "50134    1\n",
       "59775    1\n",
       "14408    0\n",
       "4351     0\n",
       "59625    1\n",
       "29379    0\n",
       "67979    0\n",
       "61451    0\n",
       "73871    0\n",
       "52090    0\n",
       "18488    0\n",
       "59673    1\n",
       "39410    0\n",
       "11837    1\n",
       "78278    1\n",
       "49291    0\n",
       "47537    0\n",
       "53478    0\n",
       "25600    0\n",
       "45409    0\n",
       "1186     0\n",
       "5973     1\n",
       "Name: prediction, Length: 22456, dtype: int64"
      ]
     },
     "execution_count": 27,
     "metadata": {},
     "output_type": "execute_result"
    }
   ],
   "source": [
    "final"
   ]
  },
  {
   "cell_type": "code",
   "execution_count": null,
   "metadata": {},
   "outputs": [],
   "source": []
  }
 ],
 "metadata": {
  "kernelspec": {
   "display_name": "Python 3",
   "language": "python",
   "name": "python3"
  },
  "language_info": {
   "codemirror_mode": {
    "name": "ipython",
    "version": 3
   },
   "file_extension": ".py",
   "mimetype": "text/x-python",
   "name": "python",
   "nbconvert_exporter": "python",
   "pygments_lexer": "ipython3",
   "version": "3.7.1"
  }
 },
 "nbformat": 4,
 "nbformat_minor": 2
}
