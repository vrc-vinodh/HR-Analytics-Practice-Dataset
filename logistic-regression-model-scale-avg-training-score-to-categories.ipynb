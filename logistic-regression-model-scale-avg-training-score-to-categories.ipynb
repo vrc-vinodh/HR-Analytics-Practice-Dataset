{
 "cells": [
  {
   "cell_type": "code",
   "execution_count": 168,
   "metadata": {},
   "outputs": [],
   "source": [
    "import pandas as pd\n",
    "import numpy as np\n",
    "import seaborn as sns\n",
    "from sklearn.model_selection import train_test_split\n",
    "import math\n",
    "import matplotlib.pyplot as plt\n",
    "from IPython.display import Image\n",
    "from IPython.core.display import HTML"
   ]
  },
  {
   "cell_type": "code",
   "execution_count": 169,
   "metadata": {},
   "outputs": [],
   "source": [
    "traindata = pd.read_csv(\"hr-total-scale-ats-cat-unbalanced.csv\",index_col=0)"
   ]
  },
  {
   "cell_type": "code",
   "execution_count": 170,
   "metadata": {
    "scrolled": false
   },
   "outputs": [
    {
     "name": "stdout",
     "output_type": "stream",
     "text": [
      "<class 'pandas.core.frame.DataFrame'>\n",
      "Int64Index: 52399 entries, 65438 to 51526\n",
      "Data columns (total 69 columns):\n",
      "age                  52399 non-null int64\n",
      "length_of_service    52399 non-null int64\n",
      "KPIs_met >80%        52399 non-null int64\n",
      "awards_won?          52399 non-null int64\n",
      "is_promoted          52399 non-null int64\n",
      "region_10            52399 non-null int64\n",
      "region_11            52399 non-null int64\n",
      "region_12            52399 non-null int64\n",
      "region_13            52399 non-null int64\n",
      "region_14            52399 non-null int64\n",
      "region_15            52399 non-null int64\n",
      "region_16            52399 non-null int64\n",
      "region_17            52399 non-null int64\n",
      "region_18            52399 non-null int64\n",
      "region_19            52399 non-null int64\n",
      "region_2             52399 non-null int64\n",
      "region_20            52399 non-null int64\n",
      "region_21            52399 non-null int64\n",
      "region_22            52399 non-null int64\n",
      "region_23            52399 non-null int64\n",
      "region_24            52399 non-null int64\n",
      "region_25            52399 non-null int64\n",
      "region_26            52399 non-null int64\n",
      "region_27            52399 non-null int64\n",
      "region_28            52399 non-null int64\n",
      "region_29            52399 non-null int64\n",
      "region_3             52399 non-null int64\n",
      "region_30            52399 non-null int64\n",
      "region_31            52399 non-null int64\n",
      "region_32            52399 non-null int64\n",
      "region_33            52399 non-null int64\n",
      "region_34            52399 non-null int64\n",
      "region_4             52399 non-null int64\n",
      "region_5             52399 non-null int64\n",
      "region_6             52399 non-null int64\n",
      "region_7             52399 non-null int64\n",
      "region_8             52399 non-null int64\n",
      "region_9             52399 non-null int64\n",
      "Below Secondary      52399 non-null int64\n",
      "Master's & above     52399 non-null int64\n",
      "Finance              52399 non-null int64\n",
      "HR                   52399 non-null int64\n",
      "Legal                52399 non-null int64\n",
      "Operations           52399 non-null int64\n",
      "Procurement          52399 non-null int64\n",
      "R&D                  52399 non-null int64\n",
      "Sales & Marketing    52399 non-null int64\n",
      "Technology           52399 non-null int64\n",
      "t2                   52399 non-null int64\n",
      "t3                   52399 non-null int64\n",
      "t4                   52399 non-null int64\n",
      "t5                   52399 non-null int64\n",
      "t6                   52399 non-null int64\n",
      "t7                   52399 non-null int64\n",
      "t8                   52399 non-null int64\n",
      "t9                   52399 non-null int64\n",
      "t10                  52399 non-null int64\n",
      "m                    52399 non-null int64\n",
      "r2                   52399 non-null int64\n",
      "r3                   52399 non-null int64\n",
      "r4                   52399 non-null int64\n",
      "r5                   52399 non-null int64\n",
      "referred             52399 non-null int64\n",
      "sourcing             52399 non-null int64\n",
      "55-62                52399 non-null int64\n",
      "63-69                52399 non-null int64\n",
      "70-87                52399 non-null int64\n",
      "88-91                52399 non-null int64\n",
      "92 and above         52399 non-null int64\n",
      "dtypes: int64(69)\n",
      "memory usage: 28.0 MB\n"
     ]
    }
   ],
   "source": [
    "traindata.info()"
   ]
  },
  {
   "cell_type": "code",
   "execution_count": 171,
   "metadata": {},
   "outputs": [],
   "source": [
    "Y = traindata['is_promoted'].values\n",
    "X_traindata = traindata.drop('is_promoted', axis=1)\n",
    "X = X_traindata.values"
   ]
  },
  {
   "cell_type": "markdown",
   "metadata": {},
   "source": [
    "Split data set into training and test sets"
   ]
  },
  {
   "cell_type": "code",
   "execution_count": 172,
   "metadata": {},
   "outputs": [],
   "source": [
    "X_train, X_test, Y_train, Y_test = train_test_split(X, Y, test_size=0.25, random_state=42)"
   ]
  },
  {
   "cell_type": "code",
   "execution_count": 173,
   "metadata": {
    "scrolled": false
   },
   "outputs": [
    {
     "data": {
      "image/png": "[encoded data removed]",
      "text/plain": [
       "<Figure size 432x288 with 1 Axes>"
      ]
     },
     "metadata": {
      "needs_background": "light"
     },
     "output_type": "display_data"
    }
   ],
   "source": [
    "plt.hist(Y_train);\n",
    "plt.show()"
   ]
  },
  {
   "cell_type": "markdown",
   "metadata": {},
   "source": [
    "here 0 and 1 are not of same proportion, we assign weight so model gives same priority to yes or no cases."
   ]
  },
  {
   "cell_type": "code",
   "execution_count": 174,
   "metadata": {},
   "outputs": [],
   "source": [
    "from sklearn.utils import class_weight\n",
    "from sklearn.utils.class_weight import compute_class_weight"
   ]
  },
  {
   "cell_type": "code",
   "execution_count": 175,
   "metadata": {},
   "outputs": [
    {
     "data": {
      "text/plain": [
       "[0.5476144027646174, 5.75051214515657]"
      ]
     },
     "execution_count": 175,
     "metadata": {},
     "output_type": "execute_result"
    }
   ],
   "source": [
    "class_weights = class_weight.compute_class_weight('balanced',np.unique(Y_train),Y_train)\n",
    "class_weightsl = class_weights.tolist()\n",
    "class_weightsl"
   ]
  },
  {
   "cell_type": "code",
   "execution_count": 176,
   "metadata": {},
   "outputs": [],
   "source": [
    "# Import module for fitting\n",
    "from sklearn.linear_model import LogisticRegression\n",
    "# Create instance (i.e. object) of LogisticRegression\n",
    "lrmodel = LogisticRegression(solver='lbfgs',max_iter=5000,class_weight={0:0.5476144027646174, 1:5.75051214515657})"
   ]
  },
  {
   "cell_type": "code",
   "execution_count": 177,
   "metadata": {
    "scrolled": true
   },
   "outputs": [
    {
     "data": {
      "text/plain": [
       "LogisticRegression(C=1.0,\n",
       "          class_weight={0: 0.5476144027646174, 1: 5.75051214515657},\n",
       "          dual=False, fit_intercept=True, intercept_scaling=1,\n",
       "          max_iter=5000, multi_class='warn', n_jobs=None, penalty='l2',\n",
       "          random_state=None, solver='lbfgs', tol=0.0001, verbose=0,\n",
       "          warm_start=False)"
      ]
     },
     "execution_count": 177,
     "metadata": {},
     "output_type": "execute_result"
    }
   ],
   "source": [
    "lrmodel.fit(X_train, Y_train)"
   ]
  },
  {
   "cell_type": "code",
   "execution_count": 178,
   "metadata": {},
   "outputs": [
    {
     "name": "stdout",
     "output_type": "stream",
     "text": [
      "[0.75355405 0.76125954 0.75505725 0.75589274 0.7597099 ]\n"
     ]
    }
   ],
   "source": [
    "from sklearn.model_selection import cross_val_score\n",
    "cv_results = cross_val_score(lrmodel, X, Y, cv=5)\n",
    "print(cv_results)"
   ]
  },
  {
   "cell_type": "code",
   "execution_count": 179,
   "metadata": {},
   "outputs": [
    {
     "data": {
      "text/plain": [
       "0.7570946955836575"
      ]
     },
     "execution_count": 179,
     "metadata": {},
     "output_type": "execute_result"
    }
   ],
   "source": [
    "np.mean(cv_results)"
   ]
  },
  {
   "cell_type": "code",
   "execution_count": 162,
   "metadata": {
    "scrolled": true
   },
   "outputs": [
    {
     "data": {
      "text/plain": [
       "0.7510623679991857"
      ]
     },
     "execution_count": 162,
     "metadata": {},
     "output_type": "execute_result"
    }
   ],
   "source": [
    "lrmodel.score(X_train, Y_train)"
   ]
  },
  {
   "cell_type": "code",
   "execution_count": 180,
   "metadata": {},
   "outputs": [
    {
     "name": "stdout",
     "output_type": "stream",
     "text": [
      "Warning: Maximum number of iterations has been exceeded.\n",
      "         Current function value: 0.205998\n",
      "         Iterations: 35\n",
      "                             Results: Logit\n",
      "=========================================================================\n",
      "Model:                  Logit              Pseudo R-squared:   0.302     \n",
      "Dependent Variable:     y                  AIC:                21726.1831\n",
      "Date:                   2019-06-27 08:16   BIC:                22337.9815\n",
      "No. Observations:       52399              Log-Likelihood:     -10794.   \n",
      "Df Model:               68                 LL-Null:            -15456.   \n",
      "Df Residuals:           52330              LLR p-value:        0.0000    \n",
      "Converged:              0.0000             Scale:              1.0000    \n",
      "No. Iterations:         35.0000                                          \n",
      "-------------------------------------------------------------------------\n",
      "                   Coef.    Std.Err.    z     P>|z|    [0.025     0.975] \n",
      "-------------------------------------------------------------------------\n",
      "const             -11.4932    0.2790 -41.1961 0.0000   -12.0401  -10.9464\n",
      "age                -0.0322    0.0037  -8.6374 0.0000    -0.0395   -0.0249\n",
      "length_of_service   0.0275    0.0059   4.6311 0.0000     0.0159    0.0391\n",
      "KPIs_met >80%       1.7169    0.0441  38.9675 0.0000     1.6306    1.8033\n",
      "awards_won?         1.5706    0.0781  20.1021 0.0000     1.4175    1.7238\n",
      "region_10           0.0879    0.2388   0.3681 0.7128    -0.3801    0.5558\n",
      "region_11          -0.3445    0.2178  -1.5818 0.1137    -0.7714    0.0824\n",
      "region_12          -0.2474    0.2818  -0.8781 0.3799    -0.7996    0.3048\n",
      "region_13           0.0976    0.1875   0.5203 0.6028    -0.2699    0.4651\n",
      "region_14           0.0525    0.2264   0.2318 0.8167    -0.3913    0.4962\n",
      "region_15           0.1864    0.1879   0.9919 0.3212    -0.1819    0.5548\n",
      "region_16          -0.1165    0.2084  -0.5593 0.5760    -0.5249    0.2919\n",
      "region_17           0.5271    0.2093   2.5185 0.0118     0.1169    0.9374\n",
      "region_18           0.5305    1.0518   0.5043 0.6140    -1.5311    2.5920\n",
      "region_19           0.0065    0.2329   0.0277 0.9779    -0.4501    0.4630\n",
      "region_2            0.2470    0.1743   1.4169 0.1565    -0.0947    0.5886\n",
      "region_20          -0.2981    0.2382  -1.2514 0.2108    -0.7650    0.1688\n",
      "region_21          -0.3476    0.3090  -1.1249 0.2606    -0.9532    0.2580\n",
      "region_22           0.5488    0.1748   3.1400 0.0017     0.2063    0.8914\n",
      "region_23           0.4738    0.1995   2.3750 0.0175     0.0828    0.8648\n",
      "region_24          -0.3198    0.3066  -1.0429 0.2970    -0.9207    0.2812\n",
      "region_25           0.5375    0.2097   2.5637 0.0104     0.1266    0.9484\n",
      "region_26          -0.0071    0.1947  -0.0362 0.9711    -0.3888    0.3746\n",
      "region_27           0.1345    0.1998   0.6732 0.5008    -0.2570    0.5260\n",
      "region_28           0.3217    0.1990   1.6165 0.1060    -0.0683    0.7116\n",
      "region_29          -0.4870    0.2441  -1.9950 0.0460    -0.9655   -0.0086\n",
      "region_3            0.2863    0.2725   1.0507 0.2934    -0.2478    0.8203\n",
      "region_30           0.1752    0.2398   0.7309 0.4649    -0.2947    0.6452\n",
      "region_31          -0.1918    0.2032  -0.9438 0.3453    -0.5900    0.2065\n",
      "region_32          -0.4529    0.2513  -1.8019 0.0716    -0.9455    0.0397\n",
      "region_33          -0.3517    0.3814  -0.9221 0.3565    -1.0993    0.3959\n",
      "region_34          -0.9881    0.4553  -2.1704 0.0300    -1.8803   -0.0958\n",
      "region_4            0.6696    0.1867   3.5872 0.0003     0.3037    1.0355\n",
      "region_5           -0.2943    0.2590  -1.1365 0.2558    -0.8019    0.2133\n",
      "region_6           -0.4498    0.2683  -1.6766 0.0936    -0.9755    0.0760\n",
      "region_7            0.4547    0.1772   2.5657 0.0103     0.1073    0.8021\n",
      "region_8           -0.1169    0.2377  -0.4920 0.6227    -0.5827    0.3489\n",
      "region_9           -1.0648    0.4330  -2.4592 0.0139    -1.9135   -0.2162\n",
      "Below Secondary    -0.2398    0.1518  -1.5797 0.1142    -0.5373    0.0577\n",
      "Master's & above    0.1706    0.0444   3.8430 0.0001     0.0836    0.2576\n",
      "Finance             3.4800    0.1366  25.4694 0.0000     3.2122    3.7478\n",
      "HR                  6.3055    0.1744  36.1579 0.0000     5.9637    6.6473\n",
      "Legal               3.2701    0.1962  16.6675 0.0000     2.8856    3.6547\n",
      "Operations          3.7055    0.1152  32.1592 0.0000     3.4797    3.9314\n",
      "Procurement         1.1547    0.0814  14.1898 0.0000     0.9952    1.3141\n",
      "R&D                -0.6271    0.1522  -4.1218 0.0000    -0.9254   -0.3289\n",
      "Sales & Marketing   6.8573    0.1456  47.0942 0.0000     6.5719    7.1426\n",
      "Technology          0.6524    0.0764   8.5428 0.0000     0.5027    0.8020\n",
      "t2                 -0.1716    0.0542  -3.1644 0.0016    -0.2779   -0.0653\n",
      "t3                 -0.2701    0.1132  -2.3865 0.0170    -0.4920   -0.0483\n",
      "t4                 -0.4728    0.2341  -2.0200 0.0434    -0.9316   -0.0141\n",
      "t5                 -0.6565    0.6124  -1.0720 0.2837    -1.8569    0.5438\n",
      "t6                 -1.2013    1.0385  -1.1567 0.2474    -3.2368    0.8342\n",
      "t7                -17.0297 4903.9880  -0.0035 0.9972 -9628.6696 9594.6102\n",
      "t8                -13.5407 1369.5346  -0.0099 0.9921 -2697.7792 2670.6978\n",
      "t9                -15.3016 3631.2796  -0.0042 0.9966 -7132.4789 7101.8757\n",
      "t10                -5.2159   34.8135  -0.1498 0.8809   -73.4492   63.0173\n",
      "m                   0.0091    0.0412   0.2200 0.8259    -0.0717    0.0898\n",
      "r2                  1.1320    0.1485   7.6224 0.0000     0.8409    1.4231\n",
      "r3                  1.4952    0.1259  11.8715 0.0000     1.2483    1.7420\n",
      "r4                  1.2981    0.1287  10.0876 0.0000     1.0459    1.5503\n",
      "r5                  1.8749    0.1266  14.8070 0.0000     1.6267    2.1231\n",
      "referred           -0.1696    0.1110  -1.5285 0.1264    -0.3871    0.0479\n",
      "sourcing           -0.0047    0.0374  -0.1266 0.8992    -0.0780    0.0685\n",
      "55-62               2.9538    0.0899  32.8421 0.0000     2.7775    3.1301\n",
      "63-69               4.5554    0.1079  42.2003 0.0000     4.3438    4.7669\n",
      "70-87               6.9272    0.1361  50.9153 0.0000     6.6606    7.1939\n",
      "88-91               8.5046    0.1683  50.5224 0.0000     8.1746    8.8345\n",
      "92 and above       11.4877    0.2727  42.1250 0.0000    10.9532   12.0222\n",
      "=========================================================================\n",
      "\n"
     ]
    },
    {
     "name": "stderr",
     "output_type": "stream",
     "text": [
      "C:\\ProgramData\\Anaconda3\\lib\\site-packages\\statsmodels\\base\\model.py:508: ConvergenceWarning: Maximum Likelihood optimization failed to converge. Check mle_retvals\n",
      "  \"Check mle_retvals\", ConvergenceWarning)\n"
     ]
    }
   ],
   "source": [
    "import statsmodels.api as sm\n",
    "X2 = sm.add_constant(X_traindata)\n",
    "logit_model=sm.Logit(Y,X2)\n",
    "result=logit_model.fit()\n",
    "print(result.summary2())"
   ]
  },
  {
   "cell_type": "code",
   "execution_count": 122,
   "metadata": {},
   "outputs": [
    {
     "data": {
      "text/plain": [
       "Index(['age', 'length_of_service', 'KPIs_met >80%', 'awards_won?',\n",
       "       'Below Secondary', 'Master's & above', 'Finance', 'HR', 'Legal',\n",
       "       'Operations', 'Procurement', 'R&D', 'Sales & Marketing', 'Technology',\n",
       "       't2', 't3', 't4', 't5', 't6', 't7', 't8', 't9', 't10', 'm', 'r2', 'r3',\n",
       "       'r4', 'r5', 'referred', 'sourcing', '55-62', '63-69', '70-87', '88-91',\n",
       "       '92 and above'],\n",
       "      dtype='object')"
      ]
     },
     "execution_count": 122,
     "metadata": {},
     "output_type": "execute_result"
    }
   ],
   "source": [
    "X_traindata.columns"
   ]
  },
  {
   "cell_type": "code",
   "execution_count": 139,
   "metadata": {},
   "outputs": [],
   "source": [
    "cols = ['age', 'length_of_service', 'KPIs_met >80%', 'awards_won?', \"Master's & above\", 'Finance', 'HR', 'Legal',\n",
    "       'Operations', 'Procurement', 'R&D', 'Sales & Marketing', 'Technology',\n",
    "       't2', 't3', 't4', 't5', 'm', 'r2', 'r3',\n",
    "       'r4', 'r5','55-62', '63-69', '70-87', '88-91',\n",
    "       '92 and above']"
   ]
  },
  {
   "cell_type": "code",
   "execution_count": 140,
   "metadata": {},
   "outputs": [],
   "source": [
    "X_traindata_final = X_traindata[cols]"
   ]
  },
  {
   "cell_type": "code",
   "execution_count": 141,
   "metadata": {},
   "outputs": [
    {
     "name": "stdout",
     "output_type": "stream",
     "text": [
      "Optimization terminated successfully.\n",
      "         Current function value: 0.208637\n",
      "         Iterations 9\n",
      "                           Results: Logit\n",
      "=====================================================================\n",
      "Model:                Logit             Pseudo R-squared:  0.293     \n",
      "Dependent Variable:   y                 AIC:               21920.7351\n",
      "Date:                 2019-06-27 08:07  BIC:               22169.0011\n",
      "No. Observations:     52399             Log-Likelihood:    -10932.   \n",
      "Df Model:             27                LL-Null:           -15456.   \n",
      "Df Residuals:         52371             LLR p-value:       0.0000    \n",
      "Converged:            1.0000            Scale:             1.0000    \n",
      "No. Iterations:       9.0000                                         \n",
      "---------------------------------------------------------------------\n",
      "                   Coef.   Std.Err.    z     P>|z|   [0.025   0.975] \n",
      "---------------------------------------------------------------------\n",
      "const             -11.4883   0.2219 -51.7627 0.0000 -11.9233 -11.0533\n",
      "age                -0.0288   0.0035  -8.1420 0.0000  -0.0357  -0.0219\n",
      "length_of_service   0.0283   0.0059   4.7923 0.0000   0.0167   0.0399\n",
      "KPIs_met >80%       1.7346   0.0439  39.5173 0.0000   1.6485   1.8206\n",
      "awards_won?         1.5549   0.0773  20.1064 0.0000   1.4033   1.7064\n",
      "Master's & above    0.2375   0.0430   5.5214 0.0000   0.1532   0.3218\n",
      "Finance             3.5357   0.1354  26.1220 0.0000   3.2704   3.8009\n",
      "HR                  6.3622   0.1729  36.7995 0.0000   6.0234   6.7011\n",
      "Legal               3.3566   0.1944  17.2663 0.0000   2.9756   3.7377\n",
      "Operations          3.7078   0.1142  32.4752 0.0000   3.4840   3.9316\n",
      "Procurement         1.1257   0.0793  14.1953 0.0000   0.9703   1.2811\n",
      "R&D                -0.5505   0.1510  -3.6455 0.0003  -0.8464  -0.2545\n",
      "Sales & Marketing   6.8881   0.1444  47.7005 0.0000   6.6051   7.1711\n",
      "Technology          0.6174   0.0744   8.3020 0.0000   0.4717   0.7632\n",
      "t2                 -0.1111   0.0535  -2.0757 0.0379  -0.2160  -0.0062\n",
      "t3                 -0.1826   0.1124  -1.6249 0.1042  -0.4029   0.0377\n",
      "t4                 -0.3909   0.2328  -1.6791 0.0931  -0.8471   0.0654\n",
      "t5                 -0.5266   0.6098  -0.8635 0.3878  -1.7217   0.6685\n",
      "m                  -0.0171   0.0407  -0.4206 0.6740  -0.0968   0.0626\n",
      "r2                  1.1532   0.1479   7.7951 0.0000   0.8633   1.4432\n",
      "r3                  1.5042   0.1254  11.9938 0.0000   1.2584   1.7500\n",
      "r4                  1.3309   0.1282  10.3827 0.0000   1.0797   1.5822\n",
      "r5                  1.9015   0.1261  15.0829 0.0000   1.6544   2.1486\n",
      "55-62               2.9664   0.0890  33.3160 0.0000   2.7919   3.1410\n",
      "63-69               4.5716   0.1067  42.8284 0.0000   4.3624   4.7809\n",
      "70-87               6.9758   0.1352  51.5785 0.0000   6.7107   7.2408\n",
      "88-91               8.5313   0.1671  51.0462 0.0000   8.2038   8.8589\n",
      "92 and above       11.4861   0.2687  42.7422 0.0000  10.9594  12.0128\n",
      "=====================================================================\n",
      "\n"
     ]
    }
   ],
   "source": [
    "X2 = sm.add_constant(X_traindata_final)\n",
    "logit_model=sm.Logit(Y,X2)\n",
    "result=logit_model.fit()\n",
    "print(result.summary2())"
   ]
  },
  {
   "cell_type": "code",
   "execution_count": 183,
   "metadata": {
    "scrolled": true
   },
   "outputs": [],
   "source": [
    "lrmodel.fit(X_train, Y_train)\n",
    "Y_predictions = lrmodel.predict(X_test)"
   ]
  },
  {
   "cell_type": "code",
   "execution_count": 184,
   "metadata": {},
   "outputs": [],
   "source": [
    "from sklearn.metrics import classification_report\n",
    "from sklearn.metrics import accuracy_score"
   ]
  },
  {
   "cell_type": "code",
   "execution_count": 185,
   "metadata": {
    "scrolled": true
   },
   "outputs": [
    {
     "data": {
      "text/html": [
       "<img src=\"https://raw.githubusercontent.com/vrc-vinodh/HR-Analytics-Practice-Dataset/master/attachements/confusion-matrix.png\" width=\"400\"/>"
      ],
      "text/plain": [
       "<IPython.core.display.Image object>"
      ]
     },
     "execution_count": 185,
     "metadata": {},
     "output_type": "execute_result"
    }
   ],
   "source": [
    "Image(url= \"https://raw.githubusercontent.com/vrc-vinodh/HR-Analytics-Practice-Dataset/master/attachements/confusion-matrix.png\", width=400)"
   ]
  },
  {
   "cell_type": "code",
   "execution_count": 186,
   "metadata": {},
   "outputs": [
    {
     "data": {
      "text/plain": [
       "array([[9037, 2934],\n",
       "       [ 205,  924]], dtype=int64)"
      ]
     },
     "execution_count": 186,
     "metadata": {},
     "output_type": "execute_result"
    }
   ],
   "source": [
    "from sklearn.metrics import confusion_matrix\n",
    "confusion_matrix(Y_test, Y_predictions)"
   ]
  },
  {
   "cell_type": "code",
   "execution_count": 187,
   "metadata": {},
   "outputs": [
    {
     "data": {
      "text/html": [
       "<img src=\"https://raw.githubusercontent.com/vrc-vinodh/HR-Analytics-Practice-Dataset/master/attachements/precision-recall-f1score.png\" width=\"500\"/>"
      ],
      "text/plain": [
       "<IPython.core.display.Image object>"
      ]
     },
     "execution_count": 187,
     "metadata": {},
     "output_type": "execute_result"
    }
   ],
   "source": [
    "Image(url= \"https://raw.githubusercontent.com/vrc-vinodh/HR-Analytics-Practice-Dataset/master/attachements/precision-recall-f1score.png\",width=500)"
   ]
  },
  {
   "cell_type": "code",
   "execution_count": 188,
   "metadata": {},
   "outputs": [
    {
     "name": "stdout",
     "output_type": "stream",
     "text": [
      "              precision    recall  f1-score   support\n",
      "\n",
      "           0       0.98      0.75      0.85     11971\n",
      "           1       0.24      0.82      0.37      1129\n",
      "\n",
      "   micro avg       0.76      0.76      0.76     13100\n",
      "   macro avg       0.61      0.79      0.61     13100\n",
      "weighted avg       0.91      0.76      0.81     13100\n",
      "\n"
     ]
    }
   ],
   "source": [
    "print(classification_report(Y_test,Y_predictions))"
   ]
  },
  {
   "cell_type": "markdown",
   "metadata": {},
   "source": [
    "1.High precision means not many people who don't deserve promotion didn't get promoted.\n",
    "\n",
    "2.High recall means predicted most people who are likely to get promoted."
   ]
  },
  {
   "cell_type": "code",
   "execution_count": 189,
   "metadata": {},
   "outputs": [
    {
     "name": "stdout",
     "output_type": "stream",
     "text": [
      "Accuracy: 0.760381679389313\n"
     ]
    }
   ],
   "source": [
    "print(\"Accuracy:\",accuracy_score(Y_test, Y_predictions))"
   ]
  },
  {
   "cell_type": "code",
   "execution_count": 190,
   "metadata": {},
   "outputs": [],
   "source": [
    "from sklearn.metrics import roc_auc_score\n",
    "from sklearn.metrics import roc_curve"
   ]
  },
  {
   "cell_type": "code",
   "execution_count": 191,
   "metadata": {},
   "outputs": [
    {
     "data": {
      "image/png": "[encoded data removed]",
      "text/plain": [
       "<Figure size 432x288 with 1 Axes>"
      ]
     },
     "metadata": {
      "needs_background": "light"
     },
     "output_type": "display_data"
    }
   ],
   "source": [
    "logit_roc_auc = roc_auc_score(Y_test, lrmodel.predict(X_test))\n",
    "fpr, tpr, thresholds = roc_curve(Y_test, lrmodel.predict_proba(X_test)[:,1])\n",
    "plt.figure()\n",
    "plt.plot(fpr, tpr, label='Logistic Regression (area = %0.1f)' % logit_roc_auc)\n",
    "plt.plot([0, 1], [0, 1],'r--')\n",
    "plt.xlim([0.0, 1.0])\n",
    "plt.ylim([0.0, 1.05])\n",
    "plt.xlabel('False Positive Rate')\n",
    "plt.ylabel('True Positive Rate')\n",
    "plt.title('predictive analytics characteristic')\n",
    "plt.legend(loc=\"lower right\")\n",
    "plt.savefig('Log_ROC')\n",
    "plt.show()"
   ]
  },
  {
   "cell_type": "markdown",
   "metadata": {},
   "source": [
    "Finding out using test data given in the problem set"
   ]
  },
  {
   "cell_type": "code",
   "execution_count": 192,
   "metadata": {},
   "outputs": [],
   "source": [
    "X_testdata = pd.read_csv(\"test-hr-total-cat1.csv\",index_col=0)"
   ]
  },
  {
   "cell_type": "code",
   "execution_count": 193,
   "metadata": {},
   "outputs": [],
   "source": [
    "X_testdata1 = X_testdata.values"
   ]
  },
  {
   "cell_type": "code",
   "execution_count": 194,
   "metadata": {},
   "outputs": [
    {
     "data": {
      "text/plain": [
       "LogisticRegression(C=1.0,\n",
       "          class_weight={0: 0.5476144027646174, 1: 5.75051214515657},\n",
       "          dual=False, fit_intercept=True, intercept_scaling=1,\n",
       "          max_iter=5000, multi_class='warn', n_jobs=None, penalty='l2',\n",
       "          random_state=None, solver='lbfgs', tol=0.0001, verbose=0,\n",
       "          warm_start=False)"
      ]
     },
     "execution_count": 194,
     "metadata": {},
     "output_type": "execute_result"
    }
   ],
   "source": [
    "lrmodel.fit(X, Y)"
   ]
  },
  {
   "cell_type": "code",
   "execution_count": null,
   "metadata": {},
   "outputs": [],
   "source": []
  }
 ],
 "metadata": {
  "kernelspec": {
   "display_name": "Python 3",
   "language": "python",
   "name": "python3"
  },
  "language_info": {
   "codemirror_mode": {
    "name": "ipython",
    "version": 3
   },
   "file_extension": ".py",
   "mimetype": "text/x-python",
   "name": "python",
   "nbconvert_exporter": "python",
   "pygments_lexer": "ipython3",
   "version": "3.7.1"
  }
 },
 "nbformat": 4,
 "nbformat_minor": 2
}
